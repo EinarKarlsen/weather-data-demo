{
    "nbformat_minor": 1, 
    "cells": [
        {
            "source": "# Extract, Transform and Load of Lightning Data", 
            "cell_type": "markdown", 
            "metadata": {}
        }, 
        {
            "source": "## Extracting Lightning Data", 
            "cell_type": "markdown", 
            "metadata": {}
        }, 
        {
            "source": "This section reads an IBM Cloud Object Storage JSON file that contains lightning data from the Weather Data Company.  The file is stored in a pandas data frame and briefly investigated using pandas operations.", 
            "cell_type": "markdown", 
            "metadata": {}
        }, 
        {
            "source": "", 
            "cell_type": "code", 
            "metadata": {}, 
            "outputs": [], 
            "execution_count": null
        }, 
        {
            "source": "cos = client_4477bd9dd4d741cc9d60849ddff5ed18\nwsbucket = 'weatherdatademo-donotdelete-pr-2qk5tcfdz1qs9t'\ndf1 = df_data_1", 
            "cell_type": "code", 
            "metadata": {}, 
            "outputs": [], 
            "execution_count": null
        }, 
        {
            "source": "df1.describe", 
            "cell_type": "code", 
            "metadata": {}, 
            "outputs": [], 
            "execution_count": null
        }, 
        {
            "source": "df1.columns", 
            "cell_type": "code", 
            "metadata": {}, 
            "outputs": [], 
            "execution_count": null
        }, 
        {
            "source": "## Transforming Lightning Data", 
            "cell_type": "markdown", 
            "metadata": {}
        }, 
        {
            "source": "In this section the pandas data frame will be transformed by selecting a subset of the properties in the JSON file containing lightning data. A new data frame will then be created that represents the key information of interest in a relational format.", 
            "cell_type": "markdown", 
            "metadata": {}
        }, 
        {
            "source": "df2 = pd.DataFrame({'latitude' : df1.lightning.latitude, 'longitude' : df1.lightning.longitude, 'intensity': df1.lightning.intensity, 'validTimeUtc' : df1.lightning.validTimeUtc})", 
            "cell_type": "code", 
            "metadata": {}, 
            "outputs": [], 
            "execution_count": null
        }, 
        {
            "source": "df2.head(5)", 
            "cell_type": "code", 
            "metadata": {}, 
            "outputs": [], 
            "execution_count": null
        }, 
        {
            "source": "## Loading Lightning Data to CSV File", 
            "cell_type": "markdown", 
            "metadata": {}
        }, 
        {
            "source": "In this section the pandas data frame will be written to a CSV file and uploaded to the bucket of the Watson Studio project. You can use the commands '!pwd' and 'ls' to query the location and content of the local directoy to which the file is initially written:", 
            "cell_type": "markdown", 
            "metadata": {}
        }, 
        {
            "source": "!pwd", 
            "cell_type": "code", 
            "metadata": {}, 
            "outputs": [], 
            "execution_count": null
        }, 
        {
            "source": "df2.to_csv(\"lightning-data.csv\")", 
            "cell_type": "code", 
            "metadata": {}, 
            "outputs": [], 
            "execution_count": null
        }, 
        {
            "source": "!ls", 
            "cell_type": "code", 
            "metadata": {}, 
            "outputs": [], 
            "execution_count": null
        }, 
        {
            "source": "cos.upload_file(Filename='lightning-data.csv',Bucket=wsbucket,Key='lightning-data.csv')", 
            "cell_type": "code", 
            "metadata": {}, 
            "outputs": [], 
            "execution_count": null
        }, 
        {
            "source": "## Loading Lightning Data to PostgreSQL Database", 
            "cell_type": "markdown", 
            "metadata": {}
        }, 
        {
            "source": "In this section (a subset of) the lightning data will be stored in a PostgreSQL table using the SQLAlchemy API. ", 
            "cell_type": "markdown", 
            "metadata": {}
        }, 
        {
            "source": "import sqlalchemy\nsqlalchemy.__version__ ", 
            "cell_type": "code", 
            "metadata": {}, 
            "outputs": [], 
            "execution_count": null
        }, 
        {
            "source": "postgreSQLEndpoint = 'postgres://<username>:<password>@9a0a10ef-e7b8-402f-a80f-7d5d4e716622.bc28ac43cf10402584b5f01db462d330.databases.appdomain.cloud:30476/ibmclouddb'#?sslmode=verify-full'", 
            "cell_type": "code", 
            "metadata": {}, 
            "outputs": [], 
            "execution_count": null
        }, 
        {
            "source": "engine = sqlalchemy.create_engine(postgreSQLEndpoint)", 
            "cell_type": "code", 
            "metadata": {}, 
            "outputs": [], 
            "execution_count": null
        }, 
        {
            "source": "df3 = df2.head(100)", 
            "cell_type": "code", 
            "metadata": {}, 
            "outputs": [], 
            "execution_count": null
        }, 
        {
            "source": "df3.to_sql(name = 'lightnings', con=engine, if_exists='replace', index=False, chunksize=1000)", 
            "cell_type": "code", 
            "metadata": {}, 
            "outputs": [], 
            "execution_count": null
        }, 
        {
            "source": "df4 = pd.read_sql_table('lightnings', engine)\ndf4.head(5)", 
            "cell_type": "code", 
            "metadata": {}, 
            "outputs": [], 
            "execution_count": null
        }
    ], 
    "metadata": {
        "kernelspec": {
            "display_name": "Python 3.5", 
            "name": "python3", 
            "language": "python"
        }, 
        "language_info": {
            "mimetype": "text/x-python", 
            "nbconvert_exporter": "python", 
            "version": "3.5.5", 
            "name": "python", 
            "pygments_lexer": "ipython3", 
            "file_extension": ".py", 
            "codemirror_mode": {
                "version": 3, 
                "name": "ipython"
            }
        }
    }, 
    "nbformat": 4
}